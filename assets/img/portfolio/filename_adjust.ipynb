{
 "cells": [
  {
   "cell_type": "code",
   "execution_count": 19,
   "metadata": {},
   "outputs": [],
   "source": [
    "import os"
   ]
  },
  {
   "cell_type": "code",
   "execution_count": 20,
   "metadata": {},
   "outputs": [],
   "source": [
    "# 設定目標資料夾為當前工作目錄\n",
    "folder_path = os.getcwd()\n",
    "\n",
    "# 遍歷資料夾中的所有檔案\n",
    "for file_name in os.listdir(folder_path):\n",
    "    if file_name.endswith('.jpg'):  # 檢查是否為jpg檔案\n",
    "        # 去掉檔案的副檔名\n",
    "        base_name, ext = os.path.splitext(file_name)\n",
    "        \n",
    "        # 檢查檔案名稱是否包含數字編號\n",
    "        if base_name.isdigit():\n",
    "            # 轉換數字編號，去掉前綴的零\n",
    "            new_base_name = str(int(base_name))  # 這會將例如 '00' 改為 '0'\n",
    "            \n",
    "            # 組成新的檔案名稱\n",
    "            new_file_name = new_base_name + ext\n",
    "            \n",
    "            # 設定檔案的完整路徑\n",
    "            old_file_path = os.path.join(folder_path, file_name)\n",
    "            new_file_path = os.path.join(folder_path, new_file_name)\n",
    "            \n",
    "            # 重命名檔案\n",
    "            os.rename(old_file_path, new_file_path)\n",
    "            print(f'Renamed: {file_name} -> {new_file_name}')"
   ]
  },
  {
   "cell_type": "code",
   "execution_count": 21,
   "metadata": {},
   "outputs": [
    {
     "name": "stdout",
     "output_type": "stream",
     "text": [
      "✅ 圖片已儲存至 /Users/alan/Documents/GitHub/one-shape-website/assets/img/portfolio/w2/5.webp\n",
      "✅ 圖片已儲存至 /Users/alan/Documents/GitHub/one-shape-website/assets/img/portfolio/w2/9.webp\n",
      "✅ 圖片已儲存至 /Users/alan/Documents/GitHub/one-shape-website/assets/img/portfolio/w2/8.webp\n",
      "✅ 圖片已儲存至 /Users/alan/Documents/GitHub/one-shape-website/assets/img/portfolio/w2/4.webp\n",
      "✅ 圖片已儲存至 /Users/alan/Documents/GitHub/one-shape-website/assets/img/portfolio/w2/13.webp\n",
      "✅ 圖片已儲存至 /Users/alan/Documents/GitHub/one-shape-website/assets/img/portfolio/w2/3.webp\n",
      "✅ 圖片已儲存至 /Users/alan/Documents/GitHub/one-shape-website/assets/img/portfolio/w2/2.webp\n",
      "✅ 圖片已儲存至 /Users/alan/Documents/GitHub/one-shape-website/assets/img/portfolio/w2/12.webp\n",
      "✅ 圖片已儲存至 /Users/alan/Documents/GitHub/one-shape-website/assets/img/portfolio/w2/1.webp\n",
      "✅ 圖片已儲存至 /Users/alan/Documents/GitHub/one-shape-website/assets/img/portfolio/w2/11.webp\n",
      "✅ 圖片已儲存至 /Users/alan/Documents/GitHub/one-shape-website/assets/img/portfolio/w2/10.webp\n",
      "✅ 圖片已儲存至 /Users/alan/Documents/GitHub/one-shape-website/assets/img/portfolio/w2/0.webp\n",
      "✅ 圖片已儲存至 /Users/alan/Documents/GitHub/one-shape-website/assets/img/portfolio/w2/7.webp\n",
      "✅ 圖片已儲存至 /Users/alan/Documents/GitHub/one-shape-website/assets/img/portfolio/w2/6.webp\n",
      "✅ 圖片已儲存至 /Users/alan/Documents/GitHub/one-shape-website/assets/img/portfolio/w1/8.webp\n",
      "🗑️ 已刪除原始檔案：/Users/alan/Documents/GitHub/one-shape-website/assets/img/portfolio/w1/8.jpg\n",
      "✅ 圖片已儲存至 /Users/alan/Documents/GitHub/one-shape-website/assets/img/portfolio/w1/9.webp\n",
      "🗑️ 已刪除原始檔案：/Users/alan/Documents/GitHub/one-shape-website/assets/img/portfolio/w1/9.jpg\n",
      "✅ 圖片已儲存至 /Users/alan/Documents/GitHub/one-shape-website/assets/img/portfolio/w1/4.webp\n",
      "🗑️ 已刪除原始檔案：/Users/alan/Documents/GitHub/one-shape-website/assets/img/portfolio/w1/4.jpg\n",
      "✅ 圖片已儲存至 /Users/alan/Documents/GitHub/one-shape-website/assets/img/portfolio/w1/5.webp\n",
      "🗑️ 已刪除原始檔案：/Users/alan/Documents/GitHub/one-shape-website/assets/img/portfolio/w1/5.jpg\n",
      "✅ 圖片已儲存至 /Users/alan/Documents/GitHub/one-shape-website/assets/img/portfolio/w1/7.webp\n",
      "🗑️ 已刪除原始檔案：/Users/alan/Documents/GitHub/one-shape-website/assets/img/portfolio/w1/7.jpg\n",
      "✅ 圖片已儲存至 /Users/alan/Documents/GitHub/one-shape-website/assets/img/portfolio/w1/6.webp\n",
      "🗑️ 已刪除原始檔案：/Users/alan/Documents/GitHub/one-shape-website/assets/img/portfolio/w1/6.jpg\n",
      "✅ 圖片已儲存至 /Users/alan/Documents/GitHub/one-shape-website/assets/img/portfolio/w1/2.webp\n",
      "🗑️ 已刪除原始檔案：/Users/alan/Documents/GitHub/one-shape-website/assets/img/portfolio/w1/2.jpg\n",
      "✅ 圖片已儲存至 /Users/alan/Documents/GitHub/one-shape-website/assets/img/portfolio/w1/3.webp\n",
      "🗑️ 已刪除原始檔案：/Users/alan/Documents/GitHub/one-shape-website/assets/img/portfolio/w1/3.jpg\n",
      "✅ 圖片已儲存至 /Users/alan/Documents/GitHub/one-shape-website/assets/img/portfolio/w1/1.webp\n",
      "🗑️ 已刪除原始檔案：/Users/alan/Documents/GitHub/one-shape-website/assets/img/portfolio/w1/1.jpg\n",
      "✅ 圖片已儲存至 /Users/alan/Documents/GitHub/one-shape-website/assets/img/portfolio/w1/0.webp\n",
      "🗑️ 已刪除原始檔案：/Users/alan/Documents/GitHub/one-shape-website/assets/img/portfolio/w1/0.jpg\n"
     ]
    }
   ],
   "source": [
    "import os\n",
    "from PIL import Image\n",
    "\n",
    "def convert_to_webp(input_path):\n",
    "    img = Image.open(input_path).convert(\"RGB\")\n",
    "\n",
    "    output_webp_path = os.path.splitext(input_path)[0] + \".webp\"\n",
    "    img.save(output_webp_path, format='WEBP', quality=75)\n",
    "    print(f\"✅ 圖片已儲存至 {output_webp_path}\")\n",
    "\n",
    "    if not input_path.lower().endswith(\".webp\"):\n",
    "        os.remove(input_path)\n",
    "        print(f\"🗑️ 已刪除原始檔案：{input_path}\")\n",
    "\n",
    "# 遍歷當前資料夾與所有子資料夾\n",
    "folder_path = os.getcwd()\n",
    "for root, dirs, files in os.walk(folder_path):\n",
    "    for file in files:\n",
    "        if file.lower().endswith((\".jpg\", \".webp\")):\n",
    "            file_path = os.path.join(root, file)\n",
    "            try:\n",
    "                convert_to_webp(file_path)\n",
    "            except Exception as e:\n",
    "                print(f\"⚠️ 處理失敗 {file_path}：{e}\")"
   ]
  }
 ],
 "metadata": {
  "kernelspec": {
   "display_name": "venv",
   "language": "python",
   "name": "python3"
  },
  "language_info": {
   "codemirror_mode": {
    "name": "ipython",
    "version": 3
   },
   "file_extension": ".py",
   "mimetype": "text/x-python",
   "name": "python",
   "nbconvert_exporter": "python",
   "pygments_lexer": "ipython3",
   "version": "3.13.4"
  }
 },
 "nbformat": 4,
 "nbformat_minor": 2
}
