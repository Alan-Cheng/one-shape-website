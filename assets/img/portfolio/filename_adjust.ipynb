{
 "cells": [
  {
   "cell_type": "code",
   "execution_count": 6,
   "metadata": {},
   "outputs": [],
   "source": [
    "import os"
   ]
  },
  {
   "cell_type": "code",
   "execution_count": 8,
   "metadata": {},
   "outputs": [],
   "source": [
    "# 設定目標資料夾為當前工作目錄\n",
    "folder_path = os.getcwd()\n",
    "\n",
    "# 遍歷資料夾中的所有檔案\n",
    "for file_name in os.listdir(folder_path):\n",
    "    if file_name.endswith('.jpg'):  # 檢查是否為jpg檔案\n",
    "        # 去掉檔案的副檔名\n",
    "        base_name, ext = os.path.splitext(file_name)\n",
    "        \n",
    "        # 檢查檔案名稱是否包含數字編號\n",
    "        if base_name.isdigit():\n",
    "            # 轉換數字編號，去掉前綴的零\n",
    "            new_base_name = str(int(base_name))  # 這會將例如 '00' 改為 '0'\n",
    "            \n",
    "            # 組成新的檔案名稱\n",
    "            new_file_name = new_base_name + ext\n",
    "            \n",
    "            # 設定檔案的完整路徑\n",
    "            old_file_path = os.path.join(folder_path, file_name)\n",
    "            new_file_path = os.path.join(folder_path, new_file_name)\n",
    "            \n",
    "            # 重命名檔案\n",
    "            os.rename(old_file_path, new_file_path)\n",
    "            print(f'Renamed: {file_name} -> {new_file_name}')"
   ]
  }
 ],
 "metadata": {
  "kernelspec": {
   "display_name": "base",
   "language": "python",
   "name": "python3"
  },
  "language_info": {
   "codemirror_mode": {
    "name": "ipython",
    "version": 3
   },
   "file_extension": ".py",
   "mimetype": "text/x-python",
   "name": "python",
   "nbconvert_exporter": "python",
   "pygments_lexer": "ipython3",
   "version": "3.12.4"
  }
 },
 "nbformat": 4,
 "nbformat_minor": 2
}
